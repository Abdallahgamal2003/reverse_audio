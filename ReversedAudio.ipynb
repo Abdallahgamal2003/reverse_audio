{
 "cells": [
  {
   "cell_type": "markdown",
   "metadata": {},
   "source": [
    "Ahmed Mohamed mostafa\n",
    "20200048\n",
    "Mohamed abdellatif\n",
    "20200461"
   ]
  },
  {
   "cell_type": "code",
   "execution_count": 11,
   "metadata": {},
   "outputs": [],
   "source": [
    "import scipy.io.wavfile as wav\n",
    "import numpy as np\n",
    "import simpleaudio as sa"
   ]
  },
  {
   "cell_type": "code",
   "execution_count": 12,
   "metadata": {},
   "outputs": [],
   "source": [
    "# Step 1: Reading the WAV File\n",
    "samplerate, data = wav.read('./test_mono.wav')"
   ]
  },
  {
   "cell_type": "code",
   "execution_count": 13,
   "metadata": {},
   "outputs": [
    {
     "name": "stdout",
     "output_type": "stream",
     "text": [
      "(158976,)\n"
     ]
    }
   ],
   "source": [
    "print(data.shape)"
   ]
  },
  {
   "cell_type": "code",
   "execution_count": 14,
   "metadata": {},
   "outputs": [],
   "source": [
    "# Step 2: Calculating Details\n",
    "num_samples = len(data)  # Number of samples in the file\n",
    "data_size_bits = num_samples * (data.dtype.itemsize * 8)  # Data size in bits\n",
    "bit_rate = samplerate * (data.dtype.itemsize * 8)  # Bit rate\n",
    "bits_per_sample = data.dtype.itemsize * 8  # Bits per sample\n",
    "recording_type = \"Mono\" if len(data.shape) == 1 else \"Stereo\"\n",
    "sampling_rate = samplerate  # Sampling rate"
   ]
  },
  {
   "cell_type": "code",
   "execution_count": 15,
   "metadata": {},
   "outputs": [
    {
     "name": "stdout",
     "output_type": "stream",
     "text": [
      "Number of Samples: 158976\n",
      "Data Size in Bits: 2543616\n",
      "Bit Rate: 705600 bps\n",
      "Bits Per Sample: 16\n",
      "Type of Recording: Mono\n",
      "Sampling Rate: 44100 Hz\n"
     ]
    }
   ],
   "source": [
    "print(f\"Number of Samples: {num_samples}\")\n",
    "print(f\"Data Size in Bits: {data_size_bits}\")\n",
    "print(f\"Bit Rate: {bit_rate} bps\")\n",
    "print(f\"Bits Per Sample: {bits_per_sample}\")\n",
    "print(f\"Type of Recording: {recording_type}\")\n",
    "print(f\"Sampling Rate: {sampling_rate} Hz\")"
   ]
  },
  {
   "cell_type": "code",
   "execution_count": 16,
   "metadata": {},
   "outputs": [],
   "source": [
    "# Step 3: Reversing the Audio\n",
    "reversed_data = np.flip(data)\n",
    "\n",
    "\n",
    "# Step 4: Playing the Reversed Audio\n",
    "def play_audio(audio_data, sample_rate):\n",
    "    # Convert to 16-bit PCM format\n",
    "    audio_data_16bit = audio_data.astype(np.int16)\n",
    "\n",
    "    # Create a SimpleAudio PlayObject\n",
    "    play_obj = sa.play_buffer(\n",
    "        audio_data_16bit.tobytes(),\n",
    "        1,  # Number of channels\n",
    "        2,  # Bytes per sample\n",
    "        sample_rate,\n",
    "    )\n",
    "\n",
    "    # Wait for the playback to finish before exiting\n",
    "    play_obj.wait_done()"
   ]
  },
  {
   "cell_type": "code",
   "execution_count": 17,
   "metadata": {},
   "outputs": [],
   "source": [
    "# play_audio(reversed_data, samplerate)"
   ]
  },
  {
   "cell_type": "code",
   "execution_count": 18,
   "metadata": {},
   "outputs": [
    {
     "name": "stdout",
     "output_type": "stream",
     "text": [
      "Reversed audio saved to ./test_mono_reversed.wav\n"
     ]
    }
   ],
   "source": [
    "# Saving the reversed audio to a new WAV file\n",
    "output_filename = './test_mono_reversed.wav'\n",
    "wav.write(output_filename, samplerate, reversed_data)\n",
    "\n",
    "print(f\"Reversed audio saved to {output_filename}\")"
   ]
  }
 ],
 "metadata": {
  "kernelspec": {
   "display_name": "base",
   "language": "python",
   "name": "python3"
  },
  "language_info": {
   "codemirror_mode": {
    "name": "ipython",
    "version": 3
   },
   "file_extension": ".py",
   "mimetype": "text/x-python",
   "name": "python",
   "nbconvert_exporter": "python",
   "pygments_lexer": "ipython3",
   "version": "3.11.7"
  }
 },
 "nbformat": 4,
 "nbformat_minor": 2
}
